{
 "cells": [
  {
   "cell_type": "code",
   "execution_count": null,
   "metadata": {},
   "outputs": [],
   "source": [
    "from pathlib import Path\n",
    "import pandas as pd\n",
    "import numpy as np\n",
    "import matplotlib.pyplot as plt\n",
    "import seaborn as sns\n",
    "\n",
    "figs_path = Path(\"figs-benchmark-simple\")"
   ]
  },
  {
   "cell_type": "code",
   "execution_count": null,
   "metadata": {},
   "outputs": [],
   "source": [
    "df = pd.read_csv(figs_path / \"experiment_results.csv\")"
   ]
  },
  {
   "cell_type": "code",
   "execution_count": null,
   "metadata": {},
   "outputs": [],
   "source": [
    "params = df[\"model\"].str.split(\"-\").str[-1].str[:-1]\n",
    "llama = df[\"model\"].str.startswith(\"Llama\")\n",
    "df.loc[llama, \"Parameters\"] = params[llama]\n",
    "df.loc[~llama, \"Parameters\"] = \"unknown\" # filler for openai models\n",
    "\n",
    "df[\"CoT\"] = np.where(df[\"cot\"].isin([\"Y\", \"I\"]), \"yes\", \"no\")\n",
    "df[\"Model\"] = df[\"model\"].copy()\n",
    "df.loc[llama, \"Model\"] = df[\"model\"].str.replace(\"-[0-9]+B\", \"\", regex=True)\n",
    "\n",
    "df.loc[llama, \"Family\"] = \"Llama\"\n",
    "df.loc[~llama, \"Family\"] = \"OpenAI\"\n",
    "df.loc[df[\"model\"] == \"Random\", \"Family\"] = \"Random\"\n",
    "\n",
    "df[\"Family\"] = df[\"Family\"] + np.where(df[\"cot\"].isin([\"Y\", \"I\"]), \"-CoT\", \"\")\n",
    "\n",
    "df[\"Fewshot\"] = df[\"fewshot\"].copy()"
   ]
  },
  {
   "cell_type": "code",
   "execution_count": null,
   "metadata": {},
   "outputs": [],
   "source": [
    "fewshot_order = [\"0-shot\", \"\", \"1-shot (+)\", \"1-shot (-)\", \"2-shot (+/-)\", \"2-shot (-/+)\"]\n",
    "temp = df.loc[160:]\n",
    "for fewshot in fewshot_order:\n",
    "    new_row = temp.copy()\n",
    "    new_row[\"Fewshot\"] = fewshot\n",
    "    df = pd.concat([df, new_row])"
   ]
  },
  {
   "cell_type": "code",
   "execution_count": null,
   "metadata": {},
   "outputs": [],
   "source": [
    "df"
   ]
  },
  {
   "cell_type": "code",
   "execution_count": null,
   "metadata": {},
   "outputs": [],
   "source": [
    "cmap = sns.color_palette(palette=\"RdYlBu\", n_colors=6)\n",
    "cmap"
   ]
  },
  {
   "cell_type": "code",
   "execution_count": null,
   "metadata": {},
   "outputs": [],
   "source": [
    "cmap2 = sns.color_palette(palette=\"RdYlBu\", n_colors=6)\n",
    "cmap2"
   ]
  },
  {
   "cell_type": "code",
   "execution_count": null,
   "metadata": {},
   "outputs": [],
   "source": [
    "cmap3 = sns.color_palette(palette=\"tab10\")\n",
    "cmap3"
   ]
  },
  {
   "cell_type": "code",
   "execution_count": null,
   "metadata": {},
   "outputs": [],
   "source": [
    "colors = {\n",
    "    \"Random\": cmap[0],\n",
    "    \"Llama-2\": cmap[1],\n",
    "    \"Llama-3\": cmap[2],\n",
    "    \"Llama-3.1\": cmap[3],\n",
    "    \"Llama-3.2\": cmap[4],\n",
    "    \"Llama-3.3\": cmap[5],\n",
    "    \"GPT-3.5-turbo\": cmap3[4],\n",
    "    \"GPT-4\": cmap2[0],\n",
    "    \"GPT-4-turbo\": cmap2[1],\n",
    "    \"GPT-4o-mini\": cmap2[2],\n",
    "    \"GPT-4o\": cmap2[3],\n",
    "    \"o1-mini\": cmap2[4],\n",
    "    \"o1\": cmap2[5],\n",
    "}\n",
    "\n",
    "hue_order = [\n",
    "    \"Random\",\n",
    "    \"Llama-2\",\n",
    "    \"Llama-3\",\n",
    "    \"Llama-3.1\",\n",
    "    \"Llama-3.2\",\n",
    "    \"Llama-3.3\",\n",
    "    \"GPT-3.5-turbo\",\n",
    "    \"GPT-4\",\n",
    "    \"GPT-4-turbo\",\n",
    "    \"GPT-4o-mini\",\n",
    "    \"GPT-4o\",\n",
    "    \"o1-mini\",\n",
    "    \"o1\",\n",
    "]"
   ]
  },
  {
   "cell_type": "code",
   "execution_count": null,
   "metadata": {},
   "outputs": [],
   "source": [
    "grid = sns.relplot(\n",
    "    data=df,\n",
    "    x=\"f1\",\n",
    "    y=\"fpr\",\n",
    "    hue=\"Model\",\n",
    "    hue_order=hue_order,\n",
    "    palette=colors,\n",
    "    col=\"Fewshot\",\n",
    "    col_wrap=2,\n",
    "    col_order=fewshot_order,\n",
    "    size=\"Parameters\",\n",
    "    # style=\"CoT\",\n",
    "    style=\"Family\",\n",
    "    style_order=[\"Llama\", \"Llama-CoT\", \"OpenAI\", \"OpenAI-CoT\", \"Random\"],\n",
    "    markers=[\"o\", \"s\", \"X\", \"P\", \"*\"],\n",
    "    sizes=[20, 40, 70, 80, 130, 250, 100],\n",
    "    size_order=[\"1\", \"3\", \"7\", \"8\", \"13\", \"70\", \"unknown\"],\n",
    "    edgecolor=\"black\"\n",
    ")\n",
    "grid.axes[0].set_xlim([-0.1, 1.1])\n",
    "grid.axes[0].set_ylim([-0.1, 1.1])\n",
    "grid.axes[1].set_visible(False)"
   ]
  },
  {
   "cell_type": "code",
   "execution_count": null,
   "metadata": {},
   "outputs": [],
   "source": [
    "grid.figure.savefig(figs_path / \"results.png\", dpi=300)"
   ]
  },
  {
   "cell_type": "code",
   "execution_count": null,
   "metadata": {},
   "outputs": [],
   "source": [
    "best = df[df[\"model\"].isin([\"GPT-4o\"])]"
   ]
  },
  {
   "cell_type": "code",
   "execution_count": null,
   "metadata": {},
   "outputs": [],
   "source": [
    "new_row = temp.copy()\n",
    "new_row[\"Fewshot\"] = \"Random\"\n",
    "best = pd.concat([best, new_row])"
   ]
  },
  {
   "cell_type": "code",
   "execution_count": null,
   "metadata": {},
   "outputs": [],
   "source": [
    "ax = sns.scatterplot(best, x=\"f1\", y=\"fpr\", style=\"Family\", hue=\"Fewshot\", s=100, markers=[\"X\", \"P\", \"*\"])\n",
    "# ax.set_xlim([-0.1, 1.1])\n",
    "# ax.set_ylim([-0.1, 1.1])\n",
    "ax.set_title(\"GPT-4o\")\n",
    "ax.figure.savefig(figs_path / \"gpt-4o.png\", dpi=300)"
   ]
  },
  {
   "cell_type": "code",
   "execution_count": null,
   "metadata": {},
   "outputs": [],
   "source": []
  }
 ],
 "metadata": {
  "kernelspec": {
   "display_name": "crispr",
   "language": "python",
   "name": "python3"
  },
  "language_info": {
   "codemirror_mode": {
    "name": "ipython",
    "version": 3
   },
   "file_extension": ".py",
   "mimetype": "text/x-python",
   "name": "python",
   "nbconvert_exporter": "python",
   "pygments_lexer": "ipython3",
   "version": "3.10.14"
  }
 },
 "nbformat": 4,
 "nbformat_minor": 2
}
