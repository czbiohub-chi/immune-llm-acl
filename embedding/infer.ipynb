{
 "cells": [
  {
   "cell_type": "code",
   "execution_count": null,
   "metadata": {},
   "outputs": [],
   "source": [
    "import os\n",
    "import sys\n",
    "\n",
    "import numpy as np\n",
    "import pandas as pd\n",
    "import torch\n",
    "from omegaconf import OmegaConf\n",
    "\n",
    "from preprocessing.generate_embeddings import generate_embeddings\n",
    "from preprocessing.generate_summaries import generate_summaries\n",
    "sys.path.append(\"src\")\n",
    "from classifier_model import ClassifierCRISPR"
   ]
  },
  {
   "cell_type": "markdown",
   "metadata": {},
   "source": [
    "### Define Screen Parameters"
   ]
  },
  {
   "cell_type": "code",
   "execution_count": null,
   "metadata": {},
   "outputs": [],
   "source": [
    "use_summarized = False\n",
    "\n",
    "perturbation = \"inhibition\"\n",
    "organism = \"human\"\n",
    "cell = \"CD8+ T cells\"\n",
    "phenotype = \"decreased cytokine secretion)\"\n",
    "gene_list = pd.read_excel(\"../custom/gene_list.xlsx\")[\"gene\"]\n",
    "\n",
    "output_csv = \"runs/custom-v1.csv\""
   ]
  },
  {
   "cell_type": "markdown",
   "metadata": {},
   "source": [
    "### Define Constants"
   ]
  },
  {
   "cell_type": "code",
   "execution_count": null,
   "metadata": {},
   "outputs": [],
   "source": [
    "api_url = \"https://api.openai.com/v1\"\n",
    "if \"OPENAI_API_KEY\" in os.environ:\n",
    "    api_key = os.environ[\"OPENAI_API_KEY\"]\n",
    "else:\n",
    "    api_key = input(\"OPENAI_API_KEY\")\n",
    "os.environ[\"OPENAI_API_KEY\"] = api_key\n",
    "summary_model = \"gpt-4o-2024-11-20\"\n",
    "embedding_model = \"text-embedding-3-large\"\n",
    "\n",
    "summ_id = \"q33613fx\"\n",
    "unsumm_id = \"v2zz1ph7\"\n",
    "\n",
    "summ_model = f\"runs/classifier-summarized/{summ_id}/VirtualCRISPR/{summ_id}/checkpoints/last.ckpt\"\n",
    "unsumm_model = f\"runs/classifier-unsummarized/{unsumm_id}/VirtualCRISPR/{unsumm_id}/checkpoints/last.ckpt\"\n",
    "summ_config = f\"runs/classifier-summarized/{summ_id}/config.yaml\"\n",
    "unsumm_config = f\"runs/classifier-unsummarized/{unsumm_id}/config.yaml\"\n",
    "\n",
    "cell_summary_prompt = \"prompts/summary-cell.json\"\n",
    "phenotype_summary_prompt = \"prompts/summary-phenotype.json\"\n",
    "\n",
    "genome_map = {\n",
    "    \"human\": \"../genomes/genome_homo_sapien.tsv\",\n",
    "    \"mouse\": \"../genomes/genome_mus_musculus.tsv\",\n",
    "}\n",
    "\n",
    "precomputed_original_gene_map = {\n",
    "    \"human\": \"data/embeddings/genes_human.npy\",\n",
    "    \"mouse\": \"data/embeddings/genes_mouse.npy\",\n",
    "}\n",
    "precomputed_summarized_gene_map = {\n",
    "    \"human\": \"data/embeddings/summarized_genes_human.npy\",\n",
    "    \"mouse\": \"data/embeddings/summarized_genes_mouse.npy\",\n",
    "}\n",
    "\n",
    "precomputed_original_method_path = \"data/embeddings/methods.npy\"\n",
    "precomputed_summarized_method_path = \"data/embeddings/summarized_methods.npy\""
   ]
  },
  {
   "cell_type": "markdown",
   "metadata": {},
   "source": [
    "### Align Genes to Reference Genome"
   ]
  },
  {
   "cell_type": "code",
   "execution_count": null,
   "metadata": {},
   "outputs": [],
   "source": [
    "genome = pd.read_csv(genome_map[organism], sep=\"\\t\")\n",
    "genome = genome[genome[\"Gene_Type\"] == \"PROTEIN_CODING\"].reset_index(drop=True)\n",
    "assert not genome[\"OFFICIAL_SYMBOL\"].str.lower().duplicated().any()\n",
    "genome.index = genome[\"OFFICIAL_SYMBOL\"].str.lower()\n",
    "\n",
    "gene_mask = gene_list.str.lower().isin(genome.index)\n",
    "dupe_mask = gene_list.duplicated(keep=False)\n",
    "mask = gene_mask & ~dupe_mask\n",
    "\n",
    "aligned_genes = genome.loc[gene_list[mask].str.lower(), \"IDENTIFIER_ID\"]\n",
    "print(f\"Filter from {len(mask)} to {len(aligned_genes)}\")"
   ]
  },
  {
   "cell_type": "markdown",
   "metadata": {},
   "source": [
    "### (Pre-)Compute Embeddings"
   ]
  },
  {
   "cell_type": "code",
   "execution_count": null,
   "metadata": {},
   "outputs": [],
   "source": [
    "if use_summarized:\n",
    "    cell = generate_summaries(terms=[cell], prompt_file=cell_summary_prompt, api_url=api_url, api_key=api_key, model=summary_model)[0]\n",
    "    phenotype = generate_summaries(terms=[phenotype], prompt_file=phenotype_summary_prompt, api_url=api_url, api_key=api_key, model=summary_model)[0]\n",
    "\n",
    "cell_emb = generate_embeddings(terms=[cell], api_url=api_url, api_key=api_key, model=embedding_model)[0]\n",
    "phenotype_emb = generate_embeddings(terms=[phenotype], api_url=api_url, api_key=api_key, model=embedding_model)[0]"
   ]
  },
  {
   "cell_type": "code",
   "execution_count": null,
   "metadata": {},
   "outputs": [],
   "source": [
    "if not use_summarized:\n",
    "    precomputed_methods = np.load(precomputed_original_method_path, allow_pickle=True).item()\n",
    "    precomputed_genes = np.load(precomputed_original_gene_map[organism], allow_pickle=True).item()\n",
    "else:\n",
    "    precomputed_methods = np.load(precomputed_summarized_method_path, allow_pickle=True).item()\n",
    "    precomputed_genes = np.load(precomputed_summarized_gene_map[organism], allow_pickle=True).item()\n",
    "\n",
    "method_emb = precomputed_methods[perturbation.title()]\n",
    "gene_embs = [precomputed_genes[gene_id] for gene_id in aligned_genes]"
   ]
  },
  {
   "cell_type": "markdown",
   "metadata": {},
   "source": [
    "### Run Classification Over Embeddings"
   ]
  },
  {
   "cell_type": "code",
   "execution_count": null,
   "metadata": {},
   "outputs": [],
   "source": [
    "sd = torch.load(summ_model if use_summarized else unsumm_model, map_location=\"cpu\")\n",
    "sd = {k.replace(\"classifier.\", \"\"): v for k, v in sd[\"state_dict\"].items()}\n",
    "cfg = OmegaConf.load(summ_config)[\"model\"][\"init_args\"]\n",
    "\n",
    "cls = ClassifierCRISPR(**cfg)\n",
    "cls.load_state_dict(sd)\n",
    "cls.eval()\n",
    "None"
   ]
  },
  {
   "cell_type": "code",
   "execution_count": null,
   "metadata": {},
   "outputs": [],
   "source": [
    "gene_embs = torch.tensor(np.array(gene_embs))\n",
    "cell_embs = torch.tensor(cell_emb).repeat(len(gene_embs), 1)\n",
    "method_embs = torch.tensor(method_emb).repeat(len(gene_embs), 1)\n",
    "phenotype_embs = torch.tensor(phenotype_emb).repeat(len(gene_embs), 1)"
   ]
  },
  {
   "cell_type": "code",
   "execution_count": null,
   "metadata": {},
   "outputs": [],
   "source": [
    "with torch.inference_mode():\n",
    "    _, probs = cls(\n",
    "        method_emb=method_embs,\n",
    "        cell_emb=cell_embs,\n",
    "        phenotype_emb=phenotype_embs,\n",
    "        gene_emb=gene_embs,\n",
    "    )"
   ]
  },
  {
   "cell_type": "code",
   "execution_count": null,
   "metadata": {},
   "outputs": [],
   "source": [
    "output = aligned_genes.reset_index()\n",
    "output[\"PREDICTED_PROB\"] = probs[:, 1]\n",
    "output.to_csv(output_csv, index=False)\n",
    "output"
   ]
  },
  {
   "cell_type": "code",
   "execution_count": null,
   "metadata": {},
   "outputs": [],
   "source": []
  }
 ],
 "metadata": {
  "kernelspec": {
   "display_name": "crispr",
   "language": "python",
   "name": "python3"
  },
  "language_info": {
   "codemirror_mode": {
    "name": "ipython",
    "version": 3
   },
   "file_extension": ".py",
   "mimetype": "text/x-python",
   "name": "python",
   "nbconvert_exporter": "python",
   "pygments_lexer": "ipython3",
   "version": "3.10.14"
  }
 },
 "nbformat": 4,
 "nbformat_minor": 2
}
