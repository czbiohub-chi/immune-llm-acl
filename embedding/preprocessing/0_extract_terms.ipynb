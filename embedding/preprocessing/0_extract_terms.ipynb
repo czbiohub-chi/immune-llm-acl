{
 "cells": [
  {
   "cell_type": "code",
   "execution_count": null,
   "metadata": {},
   "outputs": [],
   "source": [
    "import pandas as pd\n",
    "import numpy as np\n",
    "from pathlib import Path\n",
    "\n",
    "data_dir = Path(\"data\")\n",
    "\n",
    "cell_col = \"CELL_TYPE\"\n",
    "phenotype_col = \"PHENOTYPE_NOTES\"\n",
    "method_col = \"LIBRARY_METHODOLOGY\"\n",
    "gene_col = \"OFFICIAL_SYMBOL\"\n",
    "hit_col = \"HIT\""
   ]
  },
  {
   "cell_type": "code",
   "execution_count": null,
   "metadata": {},
   "outputs": [],
   "source": [
    "human_screens = pd.read_csv(data_dir / \"screens/index_homo_sapiens.tsv\", sep=\"\\t\")\n",
    "mouse_screens = pd.read_csv(data_dir / \"screens/index_mus_musculus.tsv\", sep=\"\\t\")\n",
    "\n",
    "human_genome = pd.read_csv(\"../../genomes/genome_homo_sapiens.tsv\", sep=\"\\t\")\n",
    "mouse_genome = pd.read_csv(\"../../genomes/genome_mus_musculus.tsv\", sep=\"\\t\")"
   ]
  },
  {
   "cell_type": "code",
   "execution_count": null,
   "metadata": {},
   "outputs": [],
   "source": [
    "all_screens = pd.concat([human_screens, mouse_screens])"
   ]
  },
  {
   "cell_type": "code",
   "execution_count": null,
   "metadata": {},
   "outputs": [],
   "source": [
    "screens = all_screens[~all_screens[\"SIGNIFICANCE_CRITERIA\"].str.contains(\"OR\")].reset_index(drop=True)"
   ]
  },
  {
   "cell_type": "code",
   "execution_count": null,
   "metadata": {},
   "outputs": [],
   "source": [
    "def check_not_empty(xs):\n",
    "    assert (xs.notnull() & (xs.str.strip() != \"\")).all()"
   ]
  },
  {
   "cell_type": "code",
   "execution_count": null,
   "metadata": {},
   "outputs": [],
   "source": [
    "cells = screens[cell_col].drop_duplicates().sort_values()\n",
    "check_not_empty(cells)\n",
    "cells.to_csv(data_dir / \"terms/cells.csv\", index=False)"
   ]
  },
  {
   "cell_type": "code",
   "execution_count": null,
   "metadata": {},
   "outputs": [],
   "source": [
    "screens[phenotype_col] = screens[\"PHENOTYPE\"] + \". \" + screens[\"NOTES\"]\n",
    "phenotypes = screens[phenotype_col].drop_duplicates().sort_values()\n",
    "check_not_empty(phenotypes)\n",
    "phenotypes.to_csv(data_dir / \"terms/phenotypes.csv\", index=False)"
   ]
  },
  {
   "cell_type": "code",
   "execution_count": null,
   "metadata": {},
   "outputs": [],
   "source": [
    "methods = screens[method_col].drop_duplicates().sort_values()\n",
    "check_not_empty(methods)\n",
    "methods.to_csv(data_dir / \"terms/methods.csv\", index=False)"
   ]
  },
  {
   "cell_type": "code",
   "execution_count": null,
   "metadata": {},
   "outputs": [],
   "source": [
    "human_genome = human_genome[human_genome[\"Gene_Type\"] == \"PROTEIN_CODING\"]\n",
    "mouse_genome = mouse_genome[mouse_genome[\"Gene_Type\"] == \"PROTEIN_CODING\"]\n",
    "\n",
    "assert not human_genome[gene_col].duplicated().any()\n",
    "assert not mouse_genome[gene_col].duplicated().any()"
   ]
  },
  {
   "cell_type": "code",
   "execution_count": null,
   "metadata": {},
   "outputs": [],
   "source": [
    "human_genome.to_csv(data_dir / \"terms/genes_human.csv\", index=False)"
   ]
  },
  {
   "cell_type": "code",
   "execution_count": null,
   "metadata": {},
   "outputs": [],
   "source": [
    "mouse_genome.to_csv(data_dir / \"terms/genes_mouse.csv\", index=False)"
   ]
  },
  {
   "cell_type": "code",
   "execution_count": null,
   "metadata": {},
   "outputs": [],
   "source": []
  }
 ],
 "metadata": {
  "kernelspec": {
   "display_name": "crispr",
   "language": "python",
   "name": "python3"
  },
  "language_info": {
   "codemirror_mode": {
    "name": "ipython",
    "version": 3
   },
   "file_extension": ".py",
   "mimetype": "text/x-python",
   "name": "python",
   "nbconvert_exporter": "python",
   "pygments_lexer": "ipython3",
   "version": "3.10.14"
  }
 },
 "nbformat": 4,
 "nbformat_minor": 2
}
